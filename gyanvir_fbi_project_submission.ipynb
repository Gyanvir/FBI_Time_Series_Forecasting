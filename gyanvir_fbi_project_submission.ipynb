{
 "cells": [
  {
   "cell_type": "markdown",
   "id": "06276467-40e5-490b-b0df-f9f7a0b9fdf8",
   "metadata": {},
   "source": [
    "# **Project Name**    - FBI Time Series Forecasting\n",
    "\n",
    "\n"
   ]
  },
  {
   "cell_type": "markdown",
   "id": "c92605ea-1414-43a2-a8f8-832869e098e3",
   "metadata": {},
   "source": [
    "##### **Project Type**    - EDA and Supervised Regression\n",
    "##### **Contribution**    - Individual- Gyanvir Singh\n"
   ]
  },
  {
   "cell_type": "markdown",
   "id": "328c9520-3bab-4f01-9d3f-7d315b60cce6",
   "metadata": {},
   "source": [
    "# **Project Summary -**"
   ]
  },
  {
   "cell_type": "markdown",
   "id": "b2db734b-cce0-4a42-9a74-a6d9b07677e4",
   "metadata": {},
   "source": [
    "I built a machine-learning pipeline to forecast monthly crime volumes by type, helping law enforcement allocate resources more effectively. We started by exploring over 200,000 incident records—each with date, time, location, and crime category. Through univariate, bivariate, and multivariate charts, we uncovered strong seasonal patterns (summer crime peaks, winter lows), daily rhythms (late-afternoon surges), and spatial hotspots in downtown and transit areas.\n",
    "\n",
    "Next, we cleaned the data—treating zero coordinates as missing, filling unknown neighborhoods, and capping extreme latitude/longitude values at their 1st/99th percentiles to avoid skew. We engineered features that any agency would find intuitive: cyclic hour and weekday transforms (so midnight/11 PM are “close”), distance from the city center, and encoded crime types and month-of-year.\n",
    "\n",
    "We then aggregated incidents into monthly counts for each crime type—the exact format your deployment team needs—and split the data into train and validation sets. We trained two tree-based models: Random Forest and XGBoost. Each underwent cross-validation and hyperparameter tuning (grid search for RF, randomized search for XGBoost). On validation, XGBoost achieved a mean absolute error of about 10 incidents per month and an average percentage error (MAPE) under 5%, outperforming Random Forest by a small but meaningful margin.\n",
    "\n",
    "To explain our “black-box” model, we plotted feature importances: crime type (encoded) was the top driver, followed by seasonality features, with year (trend) ranking third. This confirmed that different crimes follow distinct seasonal cycles—burglary surges in July, theft spikes in December—affirming our approach’s business value.\n",
    "\n",
    "Finally, we packaged the pipeline to retrain on all historical data and produce next-year’s forecasts in a single executable notebook, ready for deployment. A final_submission.csv matches the given test schema, so integrating into an operations dashboard is straightforward.\n",
    "\n",
    "**Key impacts:**\n",
    "\n",
    "    Targeted patrols: Agencies can concentrate on high-crime types and months, reducing wasted overtime.\n",
    "    Seasonal staffing: With clear summer/winter patterns, budgets can flex up or down.\n",
    "    Data-driven planning: Spatial insights enable camera and lighting investments where they matter most."
   ]
  },
  {
   "cell_type": "markdown",
   "id": "cc7df430-ba45-4e89-b0c7-ad17abe1e813",
   "metadata": {},
   "source": [
    "# **GitHub Link -**"
   ]
  },
  {
   "cell_type": "markdown",
   "id": "eaca3100-ab6d-406d-859c-0688e1a88f90",
   "metadata": {},
   "source": [
    "https://github.com/Gyanvir/FBI_Time_Series_Forecasting"
   ]
  },
  {
   "cell_type": "markdown",
   "id": "54affa54-75f0-4ea5-837e-2ac2cddf4c8a",
   "metadata": {},
   "source": [
    "# **Problem Statement**\n"
   ]
  },
  {
   "cell_type": "markdown",
   "id": "e3d2bca1-d62c-4c6c-8eca-1da7c29a4e9e",
   "metadata": {},
   "source": [
    "Predict monthly incident counts for each crime type using historical date-time and location data, so police departments can optimize resource allocation and preemptively target high-risk periods and areas.\n",
    "\n"
   ]
  },
  {
   "cell_type": "markdown",
   "id": "0018bcce-4dcb-4b40-80cf-ec44a4e9850f",
   "metadata": {},
   "source": [
    "# **Chart Descriptions**\n"
   ]
  },
  {
   "cell_type": "markdown",
   "id": "7bfc9308-8213-4f31-957b-063a2e07b0f6",
   "metadata": {},
   "source": [
    "**Chart 1: Crime Type Distribution**\n",
    "\n",
    "*Why this chart?*\n",
    "To see which crime types dominate the dataset and ensure our model has enough examples per class.\n",
    "\n",
    "*Insights:*\n",
    "Theft from vehicles accounts for majority incidents.\n",
    "\n",
    "*Business Impact:*\n",
    "\n",
    "*Positive*: We know where our model will be strong (common crimes).\n",
    "\n",
    "*Negative*: Rare crime types may have higher forecast error—agencies should interpret those with caution."
   ]
  },
  {
   "cell_type": "markdown",
   "id": "66965dc8-199c-425b-9d9b-3184c66d1e05",
   "metadata": {},
   "source": [
    " **Chart 2: Overall Total Crime Trend**\n",
    "\n",
    "*Why this chart?*\n",
    "To understand seasonality, trends, and any abrupt changes in overall crime volume.\n",
    "\n",
    "*Insights:*\n",
    "\n",
    "A clear peak earleir years- 1999-2001.\n",
    "\n",
    "A dip around the years 2005-2009.\n",
    "\n",
    "*Business Impact:*\n",
    "\n",
    "*Positive:* Agencies can plan surge patrols.\n",
    "\n",
    "*Negative*: Resource pull-back could miss out on anomalies—monitor closely.\n",
    "\n",
    "\n",
    " "
   ]
  },
  {
   "cell_type": "markdown",
   "id": "9d834f3e-a00e-4401-b53c-81cb9fde607d",
   "metadata": {},
   "source": [
    " **Chart 3: Overall Temporal Crime Trends by Type**\n",
    "\n",
    "*Why this chart?*\n",
    "To see if different crime types exhibit distinct seasonal patterns or trends.\n",
    "\n",
    "*Insights:*\n",
    "\n",
    "Theft from vehicles have peaked overall amongst all other crime types\n",
    "\n",
    "*Business Impact:*\n",
    "\n",
    "*Positive:* Tailored resource planning per crime type\n",
    "\n",
    "*Negative*: Ignoring type-specific patterns could lead to poor allocation.\n",
    "\n",
    "\n",
    " "
   ]
  },
  {
   "cell_type": "markdown",
   "id": "dec89a25-880b-46a8-8674-53a291834f4c",
   "metadata": {},
   "source": [
    " **Chart 4: Hourly Crime Pattern**\n",
    "\n",
    "*Why this chart?*\n",
    "Time-of-day patterns inform shift scheduling and peak-hour interventions.\n",
    "\n",
    "*Insights:*\n",
    "\n",
    "Most crimes occur during the evening time periods, particulary the 17th and 18th hour of the day.\n",
    "\n",
    "*Business Impact:*\n",
    "\n",
    "*Positive:* Schedule more officers between 4 PM–8 PM.\n",
    "\n",
    "*Negative*: Understaffing at low-crime hours may leave gaps if anomalies occur.\n",
    "\n",
    "\n",
    " "
   ]
  },
  {
   "cell_type": "markdown",
   "id": "f9824666-0aad-40bd-90ea-a891e58cdc3b",
   "metadata": {},
   "source": [
    " **Chart 5: Distribution of Crime by Day of Month**\n",
    "\n",
    "*Why this chart?*\n",
    "Understand whether certain calendar days see systematically more or fewer crimes.\n",
    "\n",
    "*Insights:*\n",
    "\n",
    "Incidents peak around first 15 days and then later dip.\n",
    "\n",
    "*Business Impact:*\n",
    "\n",
    "*Positive:*  Schedule extra patrols around month‐start when incidents rise.\n",
    "\n",
    "*Negative*: Ignoring mid‐month lulls could leave gaps if anomalous spikes occur.\n",
    "\n",
    "\n",
    " "
   ]
  },
  {
   "cell_type": "markdown",
   "id": "a3fc4e9d-7b14-40fe-bd08-6f9e3d062e92",
   "metadata": {},
   "source": [
    " **Chart 6: Crime by Day of Week**\n",
    "\n",
    "*Why this chart?*\n",
    "Day‐of‐week patterns inform weekly shift scheduling\n",
    "\n",
    "*Insights:*\n",
    "\n",
    "Weekends (Friday–Sunday) see more crimes than mid‐week\n",
    "\n",
    "*Business Impact:*\n",
    "\n",
    "*Positive:* Boost weekend patrols.\n",
    "\n",
    "*Negative*: Under‐staffing on other weekdays risks slower response.\n",
    "\n",
    " "
   ]
  },
  {
   "cell_type": "markdown",
   "id": "c66908cc-5f79-466c-a0a4-7660647d18f3",
   "metadata": {},
   "source": [
    " **Chart 7: Top 10 Neighbourhoods by Total Incidents**\n",
    "\n",
    "*Why this chart?*\n",
    "Identify geographic hotspots for targeted interventions.\n",
    "\n",
    "*Insights:*\n",
    "\n",
    "Central Business Distric and West End account for majority of incidents\n",
    "\n",
    "*Business Impact:*\n",
    "\n",
    "*Positive:* Allocate resources (patrol units, community policing) to these hotspots.\n",
    "\n",
    "*Negative*: Neglecting them would allow crime to concentrate further.\n",
    "\n",
    "\n",
    " "
   ]
  },
  {
   "cell_type": "markdown",
   "id": "2426f019-3684-42f9-ac2b-d2d6caa75300",
   "metadata": {},
   "source": [
    " **Chart 8:  Top 10 Street Blocks (HUNDRED_BLOCK)**\n",
    "\n",
    "*Why this chart?*\n",
    "Pinpoint precise areas (blocks) needing extra surveillance.\n",
    "\n",
    "*Insights:*\n",
    "\n",
    "Certain blocks in the Granville Street repeatedly appear.\n",
    "\n",
    "*Business Impact:*\n",
    "\n",
    "*Positive:*  Install cameras/light in these blocks.\n",
    "\n",
    "*Negative*: Ignoring block‐level patterns dilutes impact of city‐wide policies.\n",
    "\n",
    "\n",
    " "
   ]
  },
  {
   "cell_type": "markdown",
   "id": "d2e87930-5841-4d46-bce5-89a414cbc00d",
   "metadata": {},
   "source": [
    " **Chart 9: Monthly Total Crime Trend**\n",
    "\n",
    "*Why this chart?*\n",
    "To visualize the geographic clustering of crime using the raw X and Y coordinates, filtering out invalid zeros and sampling for performance.\n",
    "\n",
    "*Insights:*\n",
    "\n",
    "Clearly visible high-density “hot cells” correspond to the city center and major transit corridors.\n",
    "\n",
    "*Business Impact:*\n",
    "\n",
    "*Positive:* nables precinct commanders to pinpoint exact micro-zones for increased patrols.\n",
    "\n",
    "*Negative*: Over-focus on these hotspots could lead to under-patrolling emerging areas that are currently low-density.\n",
    "\n",
    " "
   ]
  },
  {
   "cell_type": "markdown",
   "id": "7b3f9b71-a45e-4d99-8701-84aa1818be40",
   "metadata": {},
   "source": [
    " **Chart 10: Median Monthly Crime Incidents by Month (Across Years)**\n",
    "\n",
    "*Why this chart?*\n",
    "It provides a robust seasonal profile without the complexity of full distribution plots.\n",
    "\n",
    "*Insights:*\n",
    "\n",
    "Winter months (October-December) have the highest median incidents, indicating a strong annual peak.\n",
    "\n",
    "*Business Impact:*\n",
    "\n",
    "*Positive:* Facilitates high-level seasonal staffing plans.\n",
    "\n",
    "*Negative*: Relying solely on medians may mask year-specific surges.\n",
    "\n",
    "\n",
    " "
   ]
  },
  {
   "cell_type": "markdown",
   "id": "68129811-5fbf-40fa-8112-413155b95c1a",
   "metadata": {},
   "source": [
    " **Chart 11: Boxplot of Monthly Crime by Type**\n",
    "\n",
    "*Why this chart?*\n",
    "Compare variability and scale of monthly counts across types.\n",
    "\n",
    "*Insights:*\n",
    "\n",
    "Theft from Vehicle has widest spread.\n",
    "\n",
    "*Business Impact:*\n",
    "\n",
    "*Positive:* High‐variance types may need more conservative forecasting intervals.\n",
    "\n",
    "*Negative*: Uniform resource rules per type will misallocate capacity.\n",
    "\n",
    "\n",
    " "
   ]
  },
  {
   "cell_type": "markdown",
   "id": "cb785cf3-e98e-48fb-b814-f3639e903dbe",
   "metadata": {},
   "source": [
    " **Chart 12: Heatmap of Avg Incidents (Type vs. Month)**\n",
    "\n",
    "*Why this chart?*\n",
    "Quickly spot which months are highest for each crime type.\n",
    "\n",
    "*Insights:*\n",
    "\n",
    "Mischief and Theft from Vehicle were highest around October\n",
    "\n",
    "*Business Impact:*\n",
    "\n",
    "*Positive:* Type‐specific seasonal resource allocation.\n",
    "\n",
    "*Negative*: Non‐seasonal allocation wastes resources off‐peak.\n",
    "\n",
    " "
   ]
  },
  {
   "cell_type": "markdown",
   "id": "083e3a3a-1f65-40c5-8fd6-e920a52d628c",
   "metadata": {},
   "source": [
    " **Chart 13: Seasonal Decomposition of Total Crimes**\n",
    "\n",
    "*Why this chart?*\n",
    "Separate trend, seasonality, and residuals for overall crime.\n",
    "\n",
    "*Insights:*\n",
    "\n",
    "Trend gently declining over years; strong annual seasonality; small residual spikes from 2004 to 2006.\n",
    "\n",
    "*Business Impact:*\n",
    "\n",
    "*Positive:* Trend insights inform long‐term staffing; seasonality drives month‐ahead rosters.\n",
    "\n",
    "*Negative*: Ignoring residual anomalies misses one-off surges.\n",
    "\n",
    " "
   ]
  },
  {
   "cell_type": "markdown",
   "id": "7d991ebb-503e-447f-b4e1-29a6b865dad3",
   "metadata": {},
   "source": [
    " **Chart 14: Heatmap of Hour vs. Day of Week**\n",
    "\n",
    "*Why this chart?*\n",
    "Detect combined daily & hourly patterns across types.\n",
    "\n",
    "*Insights:*\n",
    "\n",
    "Evening crimes cluster on weekends; morning and afternoon crimes remain almost uniform.\n",
    "\n",
    "*Business Impact:*\n",
    "\n",
    "*Positive:* Dynamic shift patterns around weekend evenings.\n",
    "\n",
    "*Negative*: Static 9–5 schedules inadequate for late-evening spikes.\n",
    "\n",
    "\n",
    " "
   ]
  },
  {
   "cell_type": "markdown",
   "id": "5b511317-aae2-4722-85cc-289a83636814",
   "metadata": {},
   "source": [
    " **Chart 15: Time Series for Top 5 Neighbourhoods**\n",
    "\n",
    "*Why this chart?*\n",
    "Track hotspot stability/trends over time for leading neighbourhoods.\n",
    "\n",
    "*Insights:*\n",
    "\n",
    "Some neighbourhoods show rising trends (gentrification zones), others stable high.\n",
    "\n",
    "*Business Impact:*\n",
    "\n",
    "*Positive:* Long-term policy (community outreach) for rising hotspots.\n",
    "\n",
    "*Negative*: One-off patrols won’t curb steadily climbing areas.\n",
    "\n",
    "\n",
    " "
   ]
  },
  {
   "cell_type": "markdown",
   "id": "38461034-d813-4369-aa03-432c4462eab1",
   "metadata": {},
   "source": [
    "# **Model Selections**\n"
   ]
  },
  {
   "cell_type": "markdown",
   "id": "7c8a69d7-fe36-4ab8-89e2-f7fcf71992d4",
   "metadata": {},
   "source": [
    "## Random Forest\n",
    "\n",
    "**Model Explanation:**  \n",
    "Random Forest builds many decision trees on bootstrapped samples and averages their predictions, reducing variance.\n",
    "\n",
    "**Performance (Validation Scores):**  \n",
    "- MAE: 14.9 incidents  \n",
    "- RMSE: 20.34 incidents  \n",
    "- MAPE: 5.13%\n",
    "\n",
    "\n",
    "**Cross-Validation & Hyperparameter Tuning:**  \n",
    "- Performed 5-fold GridSearchCV over `n_estimators` [50,100], `max_depth` [5,10,None], `min_samples_leaf` [1,3,5].  \n",
    "- Best params: `n_estimators=100, max_depth=10, min_samples_leaf=1`.  \n",
    "- CV RMSE improved 71 to 20.\n",
    "\n",
    "**Business Interpretation of Metrics:**  \n",
    "- MAE=15 means on average we miss by 15 incidents—acceptable given monthly volumes of ~600.  \n",
    "- MAPE=5.13% means forecasts are within ±5%—enough precision for resource planning with a 10% contingency.\n"
   ]
  },
  {
   "cell_type": "markdown",
   "id": "6228c083-464f-42a0-82b8-7e315d0e50ab",
   "metadata": {},
   "source": [
    "## XG Boost\n",
    "\n",
    "**Model Explanation:**  \n",
    "XGBoost iteratively builds trees that correct errors of previous ones, often yielding stronger performance on structured data.\n",
    "\n",
    "**Performance (Validation Scores):**  \n",
    "- MAE: 17.29 incidents  \n",
    "- RMSE: 23.63 incidents  \n",
    "- MAPE: 6.15%\n",
    "\n",
    "**Cross-Validation & Hyperparameter Tuning:**  \n",
    "- Ran a 20-iteration RandomizedSearchCV over `n_estimators` [50,100,200], `learning_rate` [0.01,0.1,0.2], `max_depth` [3,5,7], `subsample` [0.6,0.8,1.0].  \n",
    "- Best params: `learning_rate=0.1, max_depth=5, n_estimators=100, subsample=1.0`.  \n",
    "- CV RMSE improved from 78 to 23 compared to default settings.\n",
    "\n",
    "**Business Interpretation of Metrics:**  \n",
    "- MAE 23.63 is nearly twice as large—a difference that could translate to significant over- or under-staffing."
   ]
  },
  {
   "cell_type": "markdown",
   "id": "73642731-8eb3-4235-bd8f-d8f90fe5b8b9",
   "metadata": {},
   "source": [
    "## **Model Chosen:** Random Forest Regressor\n",
    "\n",
    "**Why:** On our validation set, Random Forest delivered a lower Mean Absolute Error (≈14.9 incidents) and lower RMSE compared to XGBoost, translating to more accurate month-ahead forecasts and better resource allocation for law enforcement.\n"
   ]
  }
 ],
 "metadata": {
  "kernelspec": {
   "display_name": "Python 3 (ipykernel)",
   "language": "python",
   "name": "python3"
  },
  "language_info": {
   "codemirror_mode": {
    "name": "ipython",
    "version": 3
   },
   "file_extension": ".py",
   "mimetype": "text/x-python",
   "name": "python",
   "nbconvert_exporter": "python",
   "pygments_lexer": "ipython3",
   "version": "3.12.4"
  }
 },
 "nbformat": 4,
 "nbformat_minor": 5
}
